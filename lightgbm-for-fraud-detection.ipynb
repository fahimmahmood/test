{
 "cells": [
  {
   "cell_type": "code",
   "execution_count": 1,
   "metadata": {
    "_cell_guid": "b1076dfc-b9ad-4769-8c92-a6c4dae69d19",
    "_uuid": "8f2839f25d086af736a60e9eeb907d3b93b6e0e5",
    "execution": {
     "iopub.execute_input": "2021-06-07T17:57:30.834798Z",
     "iopub.status.busy": "2021-06-07T17:57:30.834445Z",
     "iopub.status.idle": "2021-06-07T17:57:32.507071Z",
     "shell.execute_reply": "2021-06-07T17:57:32.506006Z",
     "shell.execute_reply.started": "2021-06-07T17:57:30.834737Z"
    }
   },
   "outputs": [
    {
     "name": "stdout",
     "output_type": "stream",
     "text": [
      "setup complete\n"
     ]
    }
   ],
   "source": [
    "import pandas as pd\n",
    "import numpy as np\n",
    "import multiprocessing\n",
    "import warnings\n",
    "import matplotlib.pyplot as plt\n",
    "import seaborn as sns\n",
    "import lightgbm as lgb\n",
    "\n",
    "from time import time\n",
    "import datetime\n",
    "from tqdm import tqdm_notebook\n",
    "from sklearn.preprocessing import LabelEncoder\n",
    "from sklearn.model_selection import KFold, TimeSeriesSplit\n",
    "from sklearn.metrics import roc_auc_score\n",
    "warnings.simplefilter('ignore')\n",
    "sns.set()\n",
    "%matplotlib inline\n",
    "\n",
    "print(\"setup complete\")"
   ]
  },
  {
   "cell_type": "markdown",
   "metadata": {},
   "source": [
    "# **Loading Data**"
   ]
  },
  {
   "cell_type": "code",
   "execution_count": 2,
   "metadata": {
    "_cell_guid": "79c7e3d0-c299-4dcb-8224-4455121ee9b0",
    "_uuid": "d629ff2d2480ee46fbb7e2d37f6b5fab8052498a",
    "execution": {
     "iopub.execute_input": "2021-06-07T17:57:32.838623Z",
     "iopub.status.busy": "2021-06-07T17:57:32.838312Z",
     "iopub.status.idle": "2021-06-07T17:58:57.306838Z",
     "shell.execute_reply": "2021-06-07T17:58:57.305296Z",
     "shell.execute_reply.started": "2021-06-07T17:57:32.838575Z"
    }
   },
   "outputs": [],
   "source": [
    "files = ['../input/test_identity.csv', \n",
    "         '../input/test_transaction.csv',\n",
    "         '../input/train_identity.csv',\n",
    "         '../input/train_transaction.csv',\n",
    "         '../input/sample_submission.csv']\n",
    "\n",
    "def load_data(file):\n",
    "    return pd.read_csv(file)\n",
    "\n",
    "with multiprocessing.Pool() as pool:\n",
    "    test_id, test_tr, train_id, train_tr, sub = pool.map(load_data, files)\n",
    "\n",
    "train = pd.merge(train_tr, train_id, on='TransactionID', how='left')\n",
    "test = pd.merge(test_tr, test_id, on='TransactionID', how='left')"
   ]
  },
  {
   "cell_type": "markdown",
   "metadata": {},
   "source": [
    "# **Preprocessing Data**"
   ]
  },
  {
   "cell_type": "code",
   "execution_count": 3,
   "metadata": {
    "execution": {
     "iopub.execute_input": "2021-06-07T17:59:59.466594Z",
     "iopub.status.busy": "2021-06-07T17:59:59.466133Z",
     "iopub.status.idle": "2021-06-07T18:04:18.140086Z",
     "shell.execute_reply": "2021-06-07T18:04:18.139047Z",
     "shell.execute_reply.started": "2021-06-07T17:59:59.466522Z"
    }
   },
   "outputs": [
    {
     "name": "stdout",
     "output_type": "stream",
     "text": [
      "214 columns dropped\n",
      "220 columns kept\n"
     ]
    }
   ],
   "source": [
    "# Dropping Columns whose more than half values are NaN\n",
    "column_dropped=[]\n",
    "\n",
    "for col in train.columns:\n",
    "#     print(f'{col} has {train[col].isnull().sum()} empty cells')\n",
    "    if (train[col].isnull().sum() / train.shape[0]) > 0.5:\n",
    "        column_dropped.insert(len(column_dropped), col)\n",
    "        train.drop(col, inplace=True, axis=1)\n",
    "    \n",
    "no_of_dropped_col=len(column_dropped)\n",
    "no_of_train_col=train.shape[1]   \n",
    "print(f'{no_of_dropped_col} columns dropped')\n",
    "print(f'{no_of_train_col} columns kept')"
   ]
  },
  {
   "cell_type": "code",
   "execution_count": 4,
   "metadata": {
    "execution": {
     "iopub.execute_input": "2021-06-07T18:04:18.142091Z",
     "iopub.status.busy": "2021-06-07T18:04:18.141742Z",
     "iopub.status.idle": "2021-06-07T18:04:18.152451Z",
     "shell.execute_reply": "2021-06-07T18:04:18.151677Z",
     "shell.execute_reply.started": "2021-06-07T18:04:18.142027Z"
    }
   },
   "outputs": [
    {
     "data": {
      "text/plain": [
       "array(['TransactionID', 'isFraud', 'TransactionDT', 'TransactionAmt',\n",
       "       'ProductCD', 'card1', 'card2', 'card3', 'card4', 'card5', 'card6',\n",
       "       'addr1', 'addr2', 'P_emaildomain', 'C1', 'C2', 'C3', 'C4', 'C5',\n",
       "       'C6', 'C7', 'C8', 'C9', 'C10', 'C11', 'C12', 'C13', 'C14', 'D1',\n",
       "       'D2', 'D3', 'D4', 'D10', 'D11', 'D15', 'M1', 'M2', 'M3', 'M4',\n",
       "       'M6', 'V1', 'V2', 'V3', 'V4', 'V5', 'V6', 'V7', 'V8', 'V9', 'V10',\n",
       "       'V11', 'V12', 'V13', 'V14', 'V15', 'V16', 'V17', 'V18', 'V19',\n",
       "       'V20', 'V21', 'V22', 'V23', 'V24', 'V25', 'V26', 'V27', 'V28',\n",
       "       'V29', 'V30', 'V31', 'V32', 'V33', 'V34', 'V35', 'V36', 'V37',\n",
       "       'V38', 'V39', 'V40', 'V41', 'V42', 'V43', 'V44', 'V45', 'V46',\n",
       "       'V47', 'V48', 'V49', 'V50', 'V51', 'V52', 'V53', 'V54', 'V55',\n",
       "       'V56', 'V57', 'V58', 'V59', 'V60', 'V61', 'V62', 'V63', 'V64',\n",
       "       'V65', 'V66', 'V67', 'V68', 'V69', 'V70', 'V71', 'V72', 'V73',\n",
       "       'V74', 'V75', 'V76', 'V77', 'V78', 'V79', 'V80', 'V81', 'V82',\n",
       "       'V83', 'V84', 'V85', 'V86', 'V87', 'V88', 'V89', 'V90', 'V91',\n",
       "       'V92', 'V93', 'V94', 'V95', 'V96', 'V97', 'V98', 'V99', 'V100',\n",
       "       'V101', 'V102', 'V103', 'V104', 'V105', 'V106', 'V107', 'V108',\n",
       "       'V109', 'V110', 'V111', 'V112', 'V113', 'V114', 'V115', 'V116',\n",
       "       'V117', 'V118', 'V119', 'V120', 'V121', 'V122', 'V123', 'V124',\n",
       "       'V125', 'V126', 'V127', 'V128', 'V129', 'V130', 'V131', 'V132',\n",
       "       'V133', 'V134', 'V135', 'V136', 'V137', 'V279', 'V280', 'V281',\n",
       "       'V282', 'V283', 'V284', 'V285', 'V286', 'V287', 'V288', 'V289',\n",
       "       'V290', 'V291', 'V292', 'V293', 'V294', 'V295', 'V296', 'V297',\n",
       "       'V298', 'V299', 'V300', 'V301', 'V302', 'V303', 'V304', 'V305',\n",
       "       'V306', 'V307', 'V308', 'V309', 'V310', 'V311', 'V312', 'V313',\n",
       "       'V314', 'V315', 'V316', 'V317', 'V318', 'V319', 'V320', 'V321'],\n",
       "      dtype=object)"
      ]
     },
     "execution_count": 4,
     "metadata": {},
     "output_type": "execute_result"
    }
   ],
   "source": [
    "train.columns.values"
   ]
  },
  {
   "cell_type": "markdown",
   "metadata": {},
   "source": [
    "# **Exploratory Data Analysis**"
   ]
  },
  {
   "cell_type": "code",
   "execution_count": 5,
   "metadata": {
    "execution": {
     "iopub.execute_input": "2021-06-07T18:39:59.442445Z",
     "iopub.status.busy": "2021-06-07T18:39:59.44207Z",
     "iopub.status.idle": "2021-06-07T18:39:59.77473Z",
     "shell.execute_reply": "2021-06-07T18:39:59.773955Z",
     "shell.execute_reply.started": "2021-06-07T18:39:59.442394Z"
    }
   },
   "outputs": [
    {
     "data": {
      "image/png": "[encoded data removed]",
      "text/plain": [
       "<Figure size 720x720 with 1 Axes>"
      ]
     },
     "metadata": {
      "needs_background": "light"
     },
     "output_type": "display_data"
    }
   ],
   "source": [
    "\n",
    "\n",
    "cards=['card1','card2','card3','card4','card5','card6']\n",
    "# int, float, float, obj, float, obj\n",
    "\n",
    "\n",
    "plt.figure(figsize=(10, 10))\n",
    "plt.hist(train['card2'],label='card2')\n",
    "plt.hist(train['card3'],label='card3')\n",
    "plt.hist(train['card5'],label='card5')\n",
    "plt.xlabel('Values')\n",
    "plt.ylabel('Frequency')\n",
    "plt.title('Histogram of card2, card3 & card5')\n",
    "plt.legend()\n",
    "plt.show()\n"
   ]
  },
  {
   "cell_type": "code",
   "execution_count": 6,
   "metadata": {
    "execution": {
     "iopub.execute_input": "2021-06-07T18:09:48.079086Z",
     "iopub.status.busy": "2021-06-07T18:09:48.07874Z",
     "iopub.status.idle": "2021-06-07T18:09:48.41376Z",
     "shell.execute_reply": "2021-06-07T18:09:48.412888Z",
     "shell.execute_reply.started": "2021-06-07T18:09:48.079035Z"
    }
   },
   "outputs": [
    {
     "data": {
      "text/plain": [
       "Text(0.5, 1.0, 'Histogram of card4 column')"
      ]
     },
     "execution_count": 6,
     "metadata": {},
     "output_type": "execute_result"
    },
    {
     "data": {
      "image/png": "[encoded data removed]",
      "text/plain": [
       "<Figure size 504x504 with 1 Axes>"
      ]
     },
     "metadata": {
      "needs_background": "light"
     },
     "output_type": "display_data"
    }
   ],
   "source": [
    "plt.figure(figsize=(7,7))\n",
    "train['card4'].value_counts().plot(kind='bar',rot=0)\n",
    "plt.title('Histogram of card4 column')"
   ]
  },
  {
   "cell_type": "code",
   "execution_count": 7,
   "metadata": {
    "execution": {
     "iopub.execute_input": "2021-06-07T18:09:41.526697Z",
     "iopub.status.busy": "2021-06-07T18:09:41.526327Z",
     "iopub.status.idle": "2021-06-07T18:09:41.845105Z",
     "shell.execute_reply": "2021-06-07T18:09:41.84413Z",
     "shell.execute_reply.started": "2021-06-07T18:09:41.526632Z"
    }
   },
   "outputs": [
    {
     "data": {
      "text/plain": [
       "Text(0.5, 1.0, 'Histogram of card6 column')"
      ]
     },
     "execution_count": 7,
     "metadata": {},
     "output_type": "execute_result"
    },
    {
     "data": {
      "image/png": "[encoded data removed]",
      "text/plain": [
       "<Figure size 504x504 with 1 Axes>"
      ]
     },
     "metadata": {
      "needs_background": "light"
     },
     "output_type": "display_data"
    }
   ],
   "source": [
    "plt.figure(figsize=(7,7))\n",
    "train['card6'].value_counts().plot(kind='bar',rot=0)\n",
    "plt.title('Histogram of card6 column')"
   ]
  },
  {
   "cell_type": "code",
   "execution_count": 8,
   "metadata": {
    "execution": {
     "iopub.execute_input": "2021-06-07T18:10:05.627866Z",
     "iopub.status.busy": "2021-06-07T18:10:05.627511Z",
     "iopub.status.idle": "2021-06-07T18:10:05.931213Z",
     "shell.execute_reply": "2021-06-07T18:10:05.930016Z",
     "shell.execute_reply.started": "2021-06-07T18:10:05.627814Z"
    }
   },
   "outputs": [
    {
     "data": {
      "text/plain": [
       "Text(0.5, 1.0, 'Histogram of ProductCD column')"
      ]
     },
     "execution_count": 8,
     "metadata": {},
     "output_type": "execute_result"
    },
    {
     "data": {
      "image/png": "[encoded data removed]",
      "text/plain": [
       "<Figure size 504x504 with 1 Axes>"
      ]
     },
     "metadata": {
      "needs_background": "light"
     },
     "output_type": "display_data"
    }
   ],
   "source": [
    "plt.figure(figsize=(7,7))\n",
    "train['ProductCD'].value_counts().plot(kind='bar',rot=0)\n",
    "plt.title('Histogram of ProductCD column')"
   ]
  },
  {
   "cell_type": "code",
   "execution_count": 9,
   "metadata": {
    "execution": {
     "iopub.execute_input": "2021-06-07T18:10:22.293201Z",
     "iopub.status.busy": "2021-06-07T18:10:22.292881Z",
     "iopub.status.idle": "2021-06-07T18:10:22.366219Z",
     "shell.execute_reply": "2021-06-07T18:10:22.364958Z",
     "shell.execute_reply.started": "2021-06-07T18:10:22.293154Z"
    }
   },
   "outputs": [
    {
     "name": "stdout",
     "output_type": "stream",
     "text": [
      "count    590540.000000\n",
      "mean        135.027176\n",
      "std         239.162522\n",
      "min           0.251000\n",
      "25%          43.321000\n",
      "50%          68.769000\n",
      "75%         125.000000\n",
      "max       31937.391000\n",
      "Name: TransactionAmt, dtype: float64\n",
      "59.00     30582\n",
      "117.00    28933\n",
      "107.95    23954\n",
      "57.95     23600\n",
      "100.00    20362\n",
      "Name: TransactionAmt, dtype: int64\n"
     ]
    }
   ],
   "source": [
    "print(train['TransactionAmt'].describe())\n",
    "print(train['TransactionAmt'].value_counts(dropna=False).head())"
   ]
  },
  {
   "cell_type": "code",
   "execution_count": 10,
   "metadata": {
    "execution": {
     "iopub.execute_input": "2021-06-07T18:13:13.582602Z",
     "iopub.status.busy": "2021-06-07T18:13:13.58219Z",
     "iopub.status.idle": "2021-06-07T18:13:13.589906Z",
     "shell.execute_reply": "2021-06-07T18:13:13.588615Z",
     "shell.execute_reply.started": "2021-06-07T18:13:13.582542Z"
    }
   },
   "outputs": [],
   "source": [
    "C_s=['C1', 'C2', 'C3', 'C4', 'C5', 'C6', 'C7', 'C8', 'C9', 'C10', 'C11', 'C12', 'C13', 'C14'] # All float type\n",
    "D_s=['D1','D2', 'D3', 'D4', 'D10', 'D11', 'D15'] #All float type\n",
    "M_s=['M1', 'M2', 'M3', 'M4', 'M6'] # All object type"
   ]
  },
  {
   "cell_type": "code",
   "execution_count": 11,
   "metadata": {
    "execution": {
     "iopub.execute_input": "2021-06-07T18:13:15.620878Z",
     "iopub.status.busy": "2021-06-07T18:13:15.620547Z",
     "iopub.status.idle": "2021-06-07T18:13:16.08337Z",
     "shell.execute_reply": "2021-06-07T18:13:16.082559Z",
     "shell.execute_reply.started": "2021-06-07T18:13:15.620829Z"
    }
   },
   "outputs": [
    {
     "name": "stdout",
     "output_type": "stream",
     "text": [
      "---------ABOUT C1--------\n",
      "count    590540.000000\n",
      "mean         14.092458\n",
      "std         133.569018\n",
      "min           0.000000\n",
      "25%           1.000000\n",
      "50%           1.000000\n",
      "75%           3.000000\n",
      "max        4685.000000\n",
      "Name: C1, dtype: float64\n",
      "---------ABOUT C2--------\n",
      "count    590540.000000\n",
      "mean         15.269734\n",
      "std         154.668899\n",
      "min           0.000000\n",
      "25%           1.000000\n",
      "50%           1.000000\n",
      "75%           3.000000\n",
      "max        5691.000000\n",
      "Name: C2, dtype: float64\n",
      "---------ABOUT C3--------\n",
      "count    590540.000000\n",
      "mean          0.005644\n",
      "std           0.150536\n",
      "min           0.000000\n",
      "25%           0.000000\n",
      "50%           0.000000\n",
      "75%           0.000000\n",
      "max          26.000000\n",
      "Name: C3, dtype: float64\n",
      "---------ABOUT C4--------\n",
      "count    590540.000000\n",
      "mean          4.092185\n",
      "std          68.848459\n",
      "min           0.000000\n",
      "25%           0.000000\n",
      "50%           0.000000\n",
      "75%           0.000000\n",
      "max        2253.000000\n",
      "Name: C4, dtype: float64\n",
      "---------ABOUT C5--------\n",
      "count    590540.000000\n",
      "mean          5.571526\n",
      "std          25.786976\n",
      "min           0.000000\n",
      "25%           0.000000\n",
      "50%           0.000000\n",
      "75%           1.000000\n",
      "max         349.000000\n",
      "Name: C5, dtype: float64\n",
      "---------ABOUT C6--------\n",
      "count    590540.000000\n",
      "mean          9.071082\n",
      "std          71.508467\n",
      "min           0.000000\n",
      "25%           1.000000\n",
      "50%           1.000000\n",
      "75%           2.000000\n",
      "max        2253.000000\n",
      "Name: C6, dtype: float64\n",
      "---------ABOUT C7--------\n",
      "count    590540.000000\n",
      "mean          2.848478\n",
      "std          61.727304\n",
      "min           0.000000\n",
      "25%           0.000000\n",
      "50%           0.000000\n",
      "75%           0.000000\n",
      "max        2255.000000\n",
      "Name: C7, dtype: float64\n",
      "---------ABOUT C8--------\n",
      "count    590540.000000\n",
      "mean          5.144574\n",
      "std          95.378574\n",
      "min           0.000000\n",
      "25%           0.000000\n",
      "50%           0.000000\n",
      "75%           0.000000\n",
      "max        3331.000000\n",
      "Name: C8, dtype: float64\n",
      "---------ABOUT C9--------\n",
      "count    590540.000000\n",
      "mean          4.480240\n",
      "std          16.674897\n",
      "min           0.000000\n",
      "25%           0.000000\n",
      "50%           1.000000\n",
      "75%           2.000000\n",
      "max         210.000000\n",
      "Name: C9, dtype: float64\n",
      "---------ABOUT C10--------\n",
      "count    590540.000000\n",
      "mean          5.240343\n",
      "std          95.581443\n",
      "min           0.000000\n",
      "25%           0.000000\n",
      "50%           0.000000\n",
      "75%           0.000000\n",
      "max        3257.000000\n",
      "Name: C10, dtype: float64\n",
      "---------ABOUT C11--------\n",
      "count    590540.000000\n",
      "mean         10.241521\n",
      "std          94.336292\n",
      "min           0.000000\n",
      "25%           1.000000\n",
      "50%           1.000000\n",
      "75%           2.000000\n",
      "max        3188.000000\n",
      "Name: C11, dtype: float64\n",
      "---------ABOUT C12--------\n",
      "count    590540.000000\n",
      "mean          4.076227\n",
      "std          86.666218\n",
      "min           0.000000\n",
      "25%           0.000000\n",
      "50%           0.000000\n",
      "75%           0.000000\n",
      "max        3188.000000\n",
      "Name: C12, dtype: float64\n",
      "---------ABOUT C13--------\n",
      "count    590540.000000\n",
      "mean         32.539918\n",
      "std         129.364844\n",
      "min           0.000000\n",
      "25%           1.000000\n",
      "50%           3.000000\n",
      "75%          12.000000\n",
      "max        2918.000000\n",
      "Name: C13, dtype: float64\n",
      "---------ABOUT C14--------\n",
      "count    590540.000000\n",
      "mean          8.295215\n",
      "std          49.544262\n",
      "min           0.000000\n",
      "25%           1.000000\n",
      "50%           1.000000\n",
      "75%           2.000000\n",
      "max        1429.000000\n",
      "Name: C14, dtype: float64\n"
     ]
    }
   ],
   "source": [
    "for Cs in C_s:\n",
    "    print('---------ABOUT {}--------'.format(Cs))\n",
    "    print(train[Cs].describe())"
   ]
  },
  {
   "cell_type": "code",
   "execution_count": 12,
   "metadata": {
    "execution": {
     "iopub.execute_input": "2021-06-07T18:15:15.265112Z",
     "iopub.status.busy": "2021-06-07T18:15:15.264714Z",
     "iopub.status.idle": "2021-06-07T18:15:15.956921Z",
     "shell.execute_reply": "2021-06-07T18:15:15.955874Z",
     "shell.execute_reply.started": "2021-06-07T18:15:15.26505Z"
    }
   },
   "outputs": [
    {
     "data": {
      "image/png": "[encoded data removed]",
      "text/plain": [
       "<Figure size 504x504 with 1 Axes>"
      ]
     },
     "metadata": {
      "needs_background": "light"
     },
     "output_type": "display_data"
    }
   ],
   "source": [
    "# for Ds in D_s:\n",
    "#     print('---------ABOUT {}--------'.format(Ds))\n",
    "#     print(train[Ds].describe())\n",
    "\n",
    "plt.figure(figsize=(7,7))\n",
    "for fig in D_s:\n",
    "    plt.hist(train[fig],label=fig,alpha=0.7)\n",
    "    plt.xlabel('Distribution of features of D_s')\n",
    "    plt.ylabel('Frequency of features of D_s')\n",
    "    plt.title('Histogram of D_s')\n",
    "    plt.legend()"
   ]
  },
  {
   "cell_type": "code",
   "execution_count": 13,
   "metadata": {
    "execution": {
     "iopub.execute_input": "2021-06-07T18:15:50.48991Z",
     "iopub.status.busy": "2021-06-07T18:15:50.489572Z",
     "iopub.status.idle": "2021-06-07T18:15:50.666563Z",
     "shell.execute_reply": "2021-06-07T18:15:50.665634Z",
     "shell.execute_reply.started": "2021-06-07T18:15:50.489859Z"
    }
   },
   "outputs": [
    {
     "data": {
      "text/plain": [
       "Text(0.5, 1.0, 'Histogram of M1 column/feature')"
      ]
     },
     "execution_count": 13,
     "metadata": {},
     "output_type": "execute_result"
    },
    {
     "data": {
      "image/png": "[encoded data removed]",
      "text/plain": [
       "<Figure size 504x504 with 1 Axes>"
      ]
     },
     "metadata": {
      "needs_background": "light"
     },
     "output_type": "display_data"
    }
   ],
   "source": [
    "plt.figure(figsize=(7,7))\n",
    "train['M1'].value_counts().plot(kind='bar',rot=0)\n",
    "plt.title('Histogram of M1 column/feature')"
   ]
  },
  {
   "cell_type": "code",
   "execution_count": 14,
   "metadata": {
    "execution": {
     "iopub.execute_input": "2021-06-07T18:16:02.362095Z",
     "iopub.status.busy": "2021-06-07T18:16:02.36169Z",
     "iopub.status.idle": "2021-06-07T18:16:02.522253Z",
     "shell.execute_reply": "2021-06-07T18:16:02.521185Z",
     "shell.execute_reply.started": "2021-06-07T18:16:02.362029Z"
    }
   },
   "outputs": [
    {
     "data": {
      "text/plain": [
       "Text(0.5, 1.0, 'Histogram of M2 column/feature')"
      ]
     },
     "execution_count": 14,
     "metadata": {},
     "output_type": "execute_result"
    },
    {
     "data": {
      "image/png": "[encoded data removed]",
      "text/plain": [
       "<Figure size 432x288 with 1 Axes>"
      ]
     },
     "metadata": {
      "needs_background": "light"
     },
     "output_type": "display_data"
    }
   ],
   "source": [
    "train['M2'].value_counts().plot(kind='bar',rot=0)\n",
    "plt.title('Histogram of M2 column/feature')"
   ]
  },
  {
   "cell_type": "code",
   "execution_count": 15,
   "metadata": {
    "execution": {
     "iopub.execute_input": "2021-06-07T18:16:08.826156Z",
     "iopub.status.busy": "2021-06-07T18:16:08.825811Z",
     "iopub.status.idle": "2021-06-07T18:16:08.976432Z",
     "shell.execute_reply": "2021-06-07T18:16:08.975416Z",
     "shell.execute_reply.started": "2021-06-07T18:16:08.826097Z"
    }
   },
   "outputs": [
    {
     "data": {
      "text/plain": [
       "Text(0.5, 1.0, 'Histogram of M3 column/feature')"
      ]
     },
     "execution_count": 15,
     "metadata": {},
     "output_type": "execute_result"
    },
    {
     "data": {
      "image/png": "[encoded data removed]",
      "text/plain": [
       "<Figure size 432x288 with 1 Axes>"
      ]
     },
     "metadata": {
      "needs_background": "light"
     },
     "output_type": "display_data"
    }
   ],
   "source": [
    "train['M3'].value_counts().plot(kind='bar',rot=0)\n",
    "plt.title('Histogram of M3 column/feature')"
   ]
  },
  {
   "cell_type": "code",
   "execution_count": 16,
   "metadata": {
    "execution": {
     "iopub.execute_input": "2021-06-07T18:16:15.542844Z",
     "iopub.status.busy": "2021-06-07T18:16:15.542477Z",
     "iopub.status.idle": "2021-06-07T18:16:15.704218Z",
     "shell.execute_reply": "2021-06-07T18:16:15.703115Z",
     "shell.execute_reply.started": "2021-06-07T18:16:15.542767Z"
    }
   },
   "outputs": [
    {
     "data": {
      "text/plain": [
       "Text(0.5, 1.0, 'Histogram of M4 column/feature')"
      ]
     },
     "execution_count": 16,
     "metadata": {},
     "output_type": "execute_result"
    },
    {
     "data": {
      "image/png": "[encoded data removed]",
      "text/plain": [
       "<Figure size 432x288 with 1 Axes>"
      ]
     },
     "metadata": {
      "needs_background": "light"
     },
     "output_type": "display_data"
    }
   ],
   "source": [
    "train['M4'].value_counts().plot(kind='bar',rot=0)\n",
    "plt.title('Histogram of M4 column/feature')"
   ]
  },
  {
   "cell_type": "code",
   "execution_count": 17,
   "metadata": {
    "execution": {
     "iopub.execute_input": "2021-06-07T18:16:21.81107Z",
     "iopub.status.busy": "2021-06-07T18:16:21.810723Z",
     "iopub.status.idle": "2021-06-07T18:16:21.954117Z",
     "shell.execute_reply": "2021-06-07T18:16:21.953303Z",
     "shell.execute_reply.started": "2021-06-07T18:16:21.811019Z"
    }
   },
   "outputs": [
    {
     "data": {
      "text/plain": [
       "Text(0.5, 1.0, 'Histogram of M6 column/feature')"
      ]
     },
     "execution_count": 17,
     "metadata": {},
     "output_type": "execute_result"
    },
    {
     "data": {
      "image/png": "[encoded data removed]",
      "text/plain": [
       "<Figure size 432x288 with 1 Axes>"
      ]
     },
     "metadata": {
      "needs_background": "light"
     },
     "output_type": "display_data"
    }
   ],
   "source": [
    "train['M6'].value_counts().plot(kind='bar',rot=0)\n",
    "plt.title('Histogram of M6 column/feature')"
   ]
  },
  {
   "cell_type": "code",
   "execution_count": 18,
   "metadata": {
    "execution": {
     "iopub.execute_input": "2021-06-07T18:17:02.883958Z",
     "iopub.status.busy": "2021-06-07T18:17:02.883397Z",
     "iopub.status.idle": "2021-06-07T18:17:02.905289Z",
     "shell.execute_reply": "2021-06-07T18:17:02.90412Z",
     "shell.execute_reply.started": "2021-06-07T18:17:02.88371Z"
    }
   },
   "outputs": [
    {
     "data": {
      "text/plain": [
       "{dtype('float64')}"
      ]
     },
     "execution_count": 18,
     "metadata": {},
     "output_type": "execute_result"
    }
   ],
   "source": [
    "# Finding data type of features from V1-V321 features\n",
    "V_s=['V1', 'V2', 'V3', 'V4', 'V5', 'V6', 'V7', 'V8', 'V9', 'V10',\n",
    "       'V11', 'V12', 'V13', 'V14', 'V15', 'V16', 'V17', 'V18', 'V19',\n",
    "       'V20', 'V21', 'V22', 'V23', 'V24', 'V25', 'V26', 'V27', 'V28',\n",
    "       'V29', 'V30', 'V31', 'V32', 'V33', 'V34', 'V35', 'V36', 'V37',\n",
    "       'V38', 'V39', 'V40', 'V41', 'V42', 'V43', 'V44', 'V45', 'V46',\n",
    "       'V47', 'V48', 'V49', 'V50', 'V51', 'V52', 'V53', 'V54', 'V55',\n",
    "       'V56', 'V57', 'V58', 'V59', 'V60', 'V61', 'V62', 'V63', 'V64',\n",
    "       'V65', 'V66', 'V67', 'V68', 'V69', 'V70', 'V71', 'V72', 'V73',\n",
    "       'V74', 'V75', 'V76', 'V77', 'V78', 'V79', 'V80', 'V81', 'V82',\n",
    "       'V83', 'V84', 'V85', 'V86', 'V87', 'V88', 'V89', 'V90', 'V91',\n",
    "       'V92', 'V93', 'V94', 'V95', 'V96', 'V97', 'V98', 'V99', 'V100',\n",
    "       'V101', 'V102', 'V103', 'V104', 'V105', 'V106', 'V107', 'V108',\n",
    "       'V109', 'V110', 'V111', 'V112', 'V113', 'V114', 'V115', 'V116',\n",
    "       'V117', 'V118', 'V119', 'V120', 'V121', 'V122', 'V123', 'V124',\n",
    "       'V125', 'V126', 'V127', 'V128', 'V129', 'V130', 'V131', 'V132',\n",
    "       'V133', 'V134', 'V135', 'V136', 'V137', 'V279', 'V280', 'V281',\n",
    "       'V282', 'V283', 'V284', 'V285', 'V286', 'V287', 'V288', 'V289',\n",
    "       'V290', 'V291', 'V292', 'V293', 'V294', 'V295', 'V296', 'V297',\n",
    "       'V298', 'V299', 'V300', 'V301', 'V302', 'V303', 'V304', 'V305',\n",
    "       'V306', 'V307', 'V308', 'V309', 'V310', 'V311', 'V312', 'V313',\n",
    "       'V314', 'V315', 'V316', 'V317', 'V318', 'V319', 'V320', 'V321']\n",
    "Vs_type=set()\n",
    "for item in V_s:\n",
    "    Vs_type.add(train[item].dtype)\n",
    "\n",
    "Vs_type"
   ]
  },
  {
   "cell_type": "code",
   "execution_count": 19,
   "metadata": {
    "execution": {
     "iopub.execute_input": "2021-06-07T18:20:30.670548Z",
     "iopub.status.busy": "2021-06-07T18:20:30.670146Z",
     "iopub.status.idle": "2021-06-07T18:20:31.919003Z",
     "shell.execute_reply": "2021-06-07T18:20:31.917666Z",
     "shell.execute_reply.started": "2021-06-07T18:20:30.670482Z"
    }
   },
   "outputs": [
    {
     "name": "stdout",
     "output_type": "stream",
     "text": [
      "float64\n",
      "count    524834.000000\n",
      "mean        290.733794\n",
      "std         101.741072\n",
      "min         100.000000\n",
      "25%         204.000000\n",
      "50%         299.000000\n",
      "75%         330.000000\n",
      "max         540.000000\n",
      "Name: addr1, dtype: float64\n",
      "float64\n",
      "count    524834.000000\n",
      "mean         86.800630\n",
      "std           2.690623\n",
      "min          10.000000\n",
      "25%          87.000000\n",
      "50%          87.000000\n",
      "75%          87.000000\n",
      "max         102.000000\n",
      "Name: addr2, dtype: float64\n",
      "object\n",
      "count        496084\n",
      "unique           59\n",
      "top       gmail.com\n",
      "freq         228355\n",
      "Name: P_emaildomain, dtype: object\n"
     ]
    },
    {
     "data": {
      "image/png": "[encoded data removed]",
      "text/plain": [
       "<Figure size 1080x1080 with 1 Axes>"
      ]
     },
     "metadata": {
      "needs_background": "light"
     },
     "output_type": "display_data"
    },
    {
     "data": {
      "image/png": "[encoded data removed]",
      "text/plain": [
       "<Figure size 1080x1080 with 1 Axes>"
      ]
     },
     "metadata": {
      "needs_background": "light"
     },
     "output_type": "display_data"
    }
   ],
   "source": [
    "address=['addr1', 'addr2', 'P_emaildomain']\n",
    "for item in address:\n",
    "    print(train[item].dtype)\n",
    "    print(train[item].describe())\n",
    "    \n",
    "plt.figure(figsize=(15,15))\n",
    "plt.hist(train['addr1'],label='addr1')\n",
    "plt.hist(train['addr2'],label='addr2')\n",
    "plt.xlabel('addr1 & addr2 distribution')\n",
    "plt.ylabel('Frequency of addr1 & addr2')\n",
    "plt.title('Histogram of feature addr1 & addr2')\n",
    "plt.show()\n",
    "\n",
    "plt.figure(figsize=(15,15))\n",
    "train['P_emaildomain'].value_counts().plot(kind='bar')\n",
    "plt.title('Barplot of P_emaildomain feature')\n",
    "plt.show()"
   ]
  },
  {
   "cell_type": "markdown",
   "metadata": {},
   "source": [
    "# **Label Encoding**"
   ]
  },
  {
   "cell_type": "code",
   "execution_count": 20,
   "metadata": {
    "execution": {
     "iopub.execute_input": "2021-06-07T18:10:42.748321Z",
     "iopub.status.busy": "2021-06-07T18:10:42.747925Z",
     "iopub.status.idle": "2021-06-07T18:10:58.375307Z",
     "shell.execute_reply": "2021-06-07T18:10:58.374527Z",
     "shell.execute_reply.started": "2021-06-07T18:10:42.748258Z"
    }
   },
   "outputs": [
    {
     "data": {
      "application/vnd.jupyter.widget-view+json": {
       "model_id": "7a8bb7fc789e4ae786b0484cd8154822",
       "version_major": 2,
       "version_minor": 0
      },
      "text/plain": [
       "HBox(children=(IntProgress(value=0, max=220), HTML(value='')))"
      ]
     },
     "metadata": {},
     "output_type": "display_data"
    },
    {
     "name": "stdout",
     "output_type": "stream",
     "text": [
      "\n"
     ]
    }
   ],
   "source": [
    "for col in tqdm_notebook(train.columns):\n",
    "    if train[col].dtype == 'object':\n",
    "        le = LabelEncoder()\n",
    "        le.fit(list(train[col].astype(str).values) + list(test[col].astype(str).values))\n",
    "        train[col] = le.transform(list(train[col].astype(str).values))\n",
    "        test[col] = le.transform(list(test[col].astype(str).values))   "
   ]
  },
  {
   "cell_type": "markdown",
   "metadata": {},
   "source": [
    "# **Preparing Train & Test Data**"
   ]
  },
  {
   "cell_type": "code",
   "execution_count": 21,
   "metadata": {
    "execution": {
     "iopub.execute_input": "2021-06-07T18:21:32.658353Z",
     "iopub.status.busy": "2021-06-07T18:21:32.658003Z",
     "iopub.status.idle": "2021-06-07T18:21:44.69726Z",
     "shell.execute_reply": "2021-06-07T18:21:44.696118Z",
     "shell.execute_reply.started": "2021-06-07T18:21:32.658304Z"
    }
   },
   "outputs": [],
   "source": [
    "X = train.sort_values('TransactionDT').drop(['isFraud', 'TransactionDT', 'TransactionID'], axis=1)\n",
    "y = train.sort_values('TransactionDT')['isFraud']\n",
    "test = test.sort_values('TransactionDT').drop(['TransactionDT', 'TransactionID'], axis=1)"
   ]
  },
  {
   "cell_type": "code",
   "execution_count": 22,
   "metadata": {
    "execution": {
     "iopub.execute_input": "2021-06-07T18:21:58.706939Z",
     "iopub.status.busy": "2021-06-07T18:21:58.70656Z",
     "iopub.status.idle": "2021-06-07T18:21:59.103162Z",
     "shell.execute_reply": "2021-06-07T18:21:59.102274Z",
     "shell.execute_reply.started": "2021-06-07T18:21:58.706881Z"
    }
   },
   "outputs": [
    {
     "data": {
      "text/plain": [
       "((590540, 217), (506691, 431))"
      ]
     },
     "execution_count": 22,
     "metadata": {},
     "output_type": "execute_result"
    }
   ],
   "source": [
    "del test_id, test_tr, train_id, train_tr\n",
    "X.shape, test.shape"
   ]
  },
  {
   "cell_type": "code",
   "execution_count": 23,
   "metadata": {
    "execution": {
     "iopub.execute_input": "2021-06-07T18:25:07.819301Z",
     "iopub.status.busy": "2021-06-07T18:25:07.818926Z",
     "iopub.status.idle": "2021-06-07T18:25:09.271599Z",
     "shell.execute_reply": "2021-06-07T18:25:09.270286Z",
     "shell.execute_reply.started": "2021-06-07T18:25:07.819241Z"
    }
   },
   "outputs": [],
   "source": [
    "# Storing the names of features which still has NaN values\n",
    "nan_col_train=list()\n",
    "for ind in X.columns:\n",
    "#     print(train[ind].value_counts(dropna=False, normalize=True).head())\n",
    "    if X[ind].isna().any() == True:\n",
    "        nan_col_train.append(ind)"
   ]
  },
  {
   "cell_type": "markdown",
   "metadata": {},
   "source": [
    "# **LightGBM Hyperparameter Tuning**"
   ]
  },
  {
   "cell_type": "code",
   "execution_count": 24,
   "metadata": {
    "execution": {
     "iopub.execute_input": "2021-06-07T18:25:55.131303Z",
     "iopub.status.busy": "2021-06-07T18:25:55.130962Z",
     "iopub.status.idle": "2021-06-07T18:25:55.137527Z",
     "shell.execute_reply": "2021-06-07T18:25:55.136642Z",
     "shell.execute_reply.started": "2021-06-07T18:25:55.131255Z"
    }
   },
   "outputs": [],
   "source": [
    "params = {'num_leaves': 491,\n",
    "          'min_child_weight': 0.03454472573214212,\n",
    "          'feature_fraction': 0.3797454081646243,\n",
    "          'bagging_fraction': 0.4181193142567742,\n",
    "          'min_data_in_leaf': 106,\n",
    "          'objective': 'binary',\n",
    "          'max_depth': -1,\n",
    "          'learning_rate': 0.006883242363721497,\n",
    "          \"boosting_type\": \"gbdt\",\n",
    "          \"bagging_seed\": 11,\n",
    "          \"metric\": 'auc',\n",
    "          \"verbosity\": -1,\n",
    "          'reg_alpha': 0.3899927210061127,\n",
    "          'reg_lambda': 0.6485237330340494,\n",
    "          'random_state': 47\n",
    "         }"
   ]
  },
  {
   "cell_type": "markdown",
   "metadata": {},
   "source": [
    "# **Preprocessing Test dataset** <br>\n",
    "Renaming some test dataset features to match with train dataset and dropping features/columns from test dataset which is not used for training."
   ]
  },
  {
   "cell_type": "code",
   "execution_count": 25,
   "metadata": {
    "execution": {
     "iopub.execute_input": "2021-06-07T18:28:18.932664Z",
     "iopub.status.busy": "2021-06-07T18:28:18.932286Z",
     "iopub.status.idle": "2021-06-07T18:28:57.65017Z",
     "shell.execute_reply": "2021-06-07T18:28:57.649336Z",
     "shell.execute_reply.started": "2021-06-07T18:28:18.932613Z"
    }
   },
   "outputs": [],
   "source": [
    "\n",
    "column_to_rename=['id-01', 'id-02', 'id-03', 'id-04', 'id-05',\n",
    "       'id-06', 'id-07', 'id-08', 'id-09', 'id-10', 'id-11', 'id-12',\n",
    "       'id-13', 'id-14', 'id-15', 'id-16', 'id-17', 'id-18', 'id-19',\n",
    "       'id-20', 'id-21', 'id-22', 'id-23', 'id-24', 'id-25', 'id-26',\n",
    "       'id-27', 'id-28', 'id-29', 'id-30', 'id-31', 'id-32', 'id-33',\n",
    "       'id-34', 'id-35', 'id-36', 'id-37', 'id-38']\n",
    "for item in column_to_rename:\n",
    "    new_col=item.split('-')\n",
    "    first=new_col[0]\n",
    "    second=new_col[1]\n",
    "    test.rename(columns={first+\"-\"+second:first+\"_\"+second},inplace=True)\n",
    "    \n",
    "test.drop(column_dropped,inplace=True,axis=1)\n"
   ]
  },
  {
   "cell_type": "code",
   "execution_count": 26,
   "metadata": {
    "execution": {
     "iopub.execute_input": "2021-06-07T18:28:57.652054Z",
     "iopub.status.busy": "2021-06-07T18:28:57.65164Z",
     "iopub.status.idle": "2021-06-07T18:28:58.789431Z",
     "shell.execute_reply": "2021-06-07T18:28:58.788692Z",
     "shell.execute_reply.started": "2021-06-07T18:28:57.652014Z"
    }
   },
   "outputs": [],
   "source": [
    "# Storing test dataset features which has NaN values\n",
    "nan_col_test=list()\n",
    "for ind in test.columns:\n",
    "    if test[ind].isna().any()==True:\n",
    "        nan_col_test.append(ind)"
   ]
  },
  {
   "cell_type": "code",
   "execution_count": 27,
   "metadata": {
    "execution": {
     "iopub.execute_input": "2021-06-07T18:28:58.790871Z",
     "iopub.status.busy": "2021-06-07T18:28:58.790457Z",
     "iopub.status.idle": "2021-06-07T18:28:58.796503Z",
     "shell.execute_reply": "2021-06-07T18:28:58.795714Z",
     "shell.execute_reply.started": "2021-06-07T18:28:58.790818Z"
    }
   },
   "outputs": [
    {
     "name": "stdout",
     "output_type": "stream",
     "text": [
      "192 columns have NaN or null in train set\n",
      "163 columns have NaN or null in test set\n"
     ]
    }
   ],
   "source": [
    "# No need to fill NaN as LightGBM can take NaN as input\n",
    "print(\"{} columns have NaN or null in train set\".format(len(nan_col_train)))\n",
    "print(\"{} columns have NaN or null in test set\".format(len(nan_col_test)))"
   ]
  },
  {
   "cell_type": "markdown",
   "metadata": {},
   "source": [
    "# **Cross Validation by TimeSeriesSplit**"
   ]
  },
  {
   "cell_type": "code",
   "execution_count": 28,
   "metadata": {
    "execution": {
     "iopub.execute_input": "2021-06-06T20:18:47.749136Z",
     "iopub.status.busy": "2021-06-06T20:18:47.748793Z",
     "iopub.status.idle": "2021-06-06T20:50:18.287618Z",
     "shell.execute_reply": "2021-06-06T20:50:18.28659Z",
     "shell.execute_reply.started": "2021-06-06T20:18:47.749083Z"
    }
   },
   "outputs": [
    {
     "name": "stdout",
     "output_type": "stream",
     "text": [
      "Training on fold 1\n",
      "Training until validation scores don't improve for 500 rounds.\n",
      "[1000]\ttraining's auc: 0.998639\tvalid_1's auc: 0.897517\n",
      "Early stopping, best iteration is:\n",
      "[814]\ttraining's auc: 0.997238\tvalid_1's auc: 0.897915\n",
      "          feature  fold_1\n",
      "0  TransactionAmt   22390\n",
      "1       ProductCD    1273\n",
      "2           card1   27997\n",
      "3           card2   21710\n",
      "4           card3     685\n",
      "Fold 1 finished in 0:01:53.223928\n",
      "Training on fold 2\n",
      "Training until validation scores don't improve for 500 rounds.\n",
      "[1000]\ttraining's auc: 0.996976\tvalid_1's auc: 0.919536\n",
      "Early stopping, best iteration is:\n",
      "[789]\ttraining's auc: 0.994867\tvalid_1's auc: 0.920423\n",
      "          feature  fold_1  fold_2\n",
      "0  TransactionAmt   22390   27445\n",
      "1       ProductCD    1273    1847\n",
      "2           card1   27997   35146\n",
      "3           card2   21710   31085\n",
      "4           card3     685    1233\n",
      "Fold 2 finished in 0:03:41.953668\n",
      "Training on fold 3\n",
      "Training until validation scores don't improve for 500 rounds.\n",
      "[1000]\ttraining's auc: 0.994234\tvalid_1's auc: 0.910095\n",
      "Early stopping, best iteration is:\n",
      "[850]\ttraining's auc: 0.992288\tvalid_1's auc: 0.910694\n",
      "          feature  fold_1  fold_2  fold_3\n",
      "0  TransactionAmt   22390   27445   24358\n",
      "1       ProductCD    1273    1847    1969\n",
      "2           card1   27997   35146   33509\n",
      "3           card2   21710   31085   29817\n",
      "4           card3     685    1233    1895\n",
      "Fold 3 finished in 0:05:49.369914\n",
      "Training on fold 4\n",
      "Training until validation scores don't improve for 500 rounds.\n",
      "[1000]\ttraining's auc: 0.990793\tvalid_1's auc: 0.92925\n",
      "Early stopping, best iteration is:\n",
      "[997]\ttraining's auc: 0.990759\tvalid_1's auc: 0.929257\n",
      "          feature  fold_1  fold_2  fold_3  fold_4\n",
      "0  TransactionAmt   22390   27445   24358   26112\n",
      "1       ProductCD    1273    1847    1969    2251\n",
      "2           card1   27997   35146   33509   36073\n",
      "3           card2   21710   31085   29817   33680\n",
      "4           card3     685    1233    1895    2580\n",
      "Fold 4 finished in 0:08:34.586585\n",
      "Training on fold 5\n",
      "Training until validation scores don't improve for 500 rounds.\n",
      "[1000]\ttraining's auc: 0.988651\tvalid_1's auc: 0.92716\n",
      "Early stopping, best iteration is:\n",
      "[1324]\ttraining's auc: 0.992507\tvalid_1's auc: 0.927758\n",
      "          feature  fold_1  fold_2  fold_3  fold_4  fold_5\n",
      "0  TransactionAmt   22390   27445   24358   26112   39621\n",
      "1       ProductCD    1273    1847    1969    2251    2635\n",
      "2           card1   27997   35146   33509   36073   47639\n",
      "3           card2   21710   31085   29817   33680   39496\n",
      "4           card3     685    1233    1895    2580    3405\n",
      "Fold 5 finished in 0:13:03.769516\n",
      "------------------------------\n",
      "Training has finished.\n",
      "Total training time is 0:33:02.906053\n",
      "Mean AUC: 0.9172093381045862\n",
      "------------------------------\n"
     ]
    }
   ],
   "source": [
    "folds = TimeSeriesSplit(n_splits=5)\n",
    "\n",
    "aucs = list()\n",
    "feature_importances = pd.DataFrame()\n",
    "feature_importances['feature'] = X.columns\n",
    "\n",
    "training_start_time = time()\n",
    "for fold, (trn_idx, test_idx) in enumerate(folds.split(X, y)):\n",
    "    start_time = time()\n",
    "    print('Training on fold {}'.format(fold + 1))\n",
    "    \n",
    "    trn_data = lgb.Dataset(X.iloc[trn_idx], label=y.iloc[trn_idx])\n",
    "    val_data = lgb.Dataset(X.iloc[test_idx], label=y.iloc[test_idx])\n",
    "    clf = lgb.train(params, trn_data, 10000, valid_sets = [trn_data, val_data], verbose_eval=1000, early_stopping_rounds=500)\n",
    "    \n",
    "    feature_importances['fold_{}'.format(fold + 1)] = clf.feature_importance()\n",
    "    aucs.append(clf.best_score['valid_1']['auc'])\n",
    "    print(feature_importances.head())\n",
    "    \n",
    "    print('Fold {} finished in {}'.format(fold + 1, str(datetime.timedelta(seconds=time() - start_time))))\n",
    "print('-' * 30)\n",
    "print('Training has finished.')\n",
    "print('Total training time is {}'.format(str(datetime.timedelta(seconds=time() - training_start_time))))\n",
    "print('Mean AUC:', np.mean(aucs))\n",
    "print('-' * 30)"
   ]
  },
  {
   "cell_type": "markdown",
   "metadata": {},
   "source": [
    "# **Plotting Important Features**"
   ]
  },
  {
   "cell_type": "code",
   "execution_count": 29,
   "metadata": {
    "execution": {
     "iopub.execute_input": "2021-06-04T12:46:59.771193Z",
     "iopub.status.busy": "2021-06-04T12:46:59.770757Z",
     "iopub.status.idle": "2021-06-04T12:47:05.038285Z",
     "shell.execute_reply": "2021-06-04T12:47:05.037119Z",
     "shell.execute_reply.started": "2021-06-04T12:46:59.77114Z"
    }
   },
   "outputs": [
    {
     "data": {
      "image/png": "[encoded data removed]",
      "text/plain": [
       "<Figure size 1152x1152 with 1 Axes>"
      ]
     },
     "metadata": {
      "needs_background": "light"
     },
     "output_type": "display_data"
    }
   ],
   "source": [
    "feature_importances['average'] = feature_importances[['fold_{}'.format(fold + 1) for fold in range(folds.n_splits)]].mean(axis=1)\n",
    "feature_importances.to_csv('feature_importances.csv')\n",
    "\n",
    "plt.figure(figsize=(16, 16))\n",
    "sns.barplot(data=feature_importances.sort_values(by='average', ascending=False).head(50), x='average', y='feature');\n",
    "plt.title('50 TOP feature importance over {} folds average'.format(folds.n_splits));"
   ]
  },
  {
   "cell_type": "markdown",
   "metadata": {},
   "source": [
    "# **Training LightGBM**"
   ]
  },
  {
   "cell_type": "code",
   "execution_count": 30,
   "metadata": {
    "execution": {
     "iopub.execute_input": "2021-06-04T12:47:11.357303Z",
     "iopub.status.busy": "2021-06-04T12:47:11.356963Z",
     "iopub.status.idle": "2021-06-04T12:47:11.362472Z",
     "shell.execute_reply": "2021-06-04T12:47:11.361108Z",
     "shell.execute_reply.started": "2021-06-04T12:47:11.357255Z"
    }
   },
   "outputs": [
    {
     "data": {
      "text/plain": [
       "LGBMClassifier(bagging_fraction=0.4181193142567742, bagging_seed=11,\n",
       "               boosting_type='gbdt', class_weight=None, colsample_bytree=1.0,\n",
       "               feature_fraction=0.3797454081646243, importance_type='split',\n",
       "               learning_rate=0.006883242363721497, max_depth=-1, metric='auc',\n",
       "               min_child_samples=20, min_child_weight=0.03454472573214212,\n",
       "               min_data_in_leaf=106, min_split_gain=0.0, n_estimators=100,\n",
       "               n_jobs=-1, num_boost_round=1324, num_leaves=491,\n",
       "               objective='binary', random_state=47,\n",
       "               reg_alpha=0.3899927210061127, reg_lambda=0.6485237330340494,\n",
       "               silent=True, subsample=1.0, subsample_for_bin=200000,\n",
       "               subsample_freq=0, verbosity=-1)"
      ]
     },
     "execution_count": 30,
     "metadata": {},
     "output_type": "execute_result"
    }
   ],
   "source": [
    "# clf right now is the last model, trained with 80% of data and validated with 20%\n",
    "best_iter = clf.best_iteration\n",
    "\n",
    "clf = lgb.LGBMClassifier(**params, num_boost_round=best_iter)\n",
    "clf.fit(X, y)"
   ]
  },
  {
   "cell_type": "markdown",
   "metadata": {},
   "source": [
    "# **Generating Submission File**"
   ]
  },
  {
   "cell_type": "code",
   "execution_count": 31,
   "metadata": {
    "execution": {
     "iopub.execute_input": "2021-06-04T12:57:09.004637Z",
     "iopub.status.busy": "2021-06-04T12:57:09.004283Z",
     "iopub.status.idle": "2021-06-04T12:59:26.961884Z",
     "shell.execute_reply": "2021-06-04T12:59:26.960835Z",
     "shell.execute_reply.started": "2021-06-04T12:57:09.004588Z"
    }
   },
   "outputs": [],
   "source": [
    "sub['isFraud'] = clf.predict_proba(test)[:, 1]\n",
    "sub.to_csv('my_submission.csv', index=False)"
   ]
  }
 ],
 "metadata": {
  "kernelspec": {
   "display_name": "Python 3",
   "language": "python",
   "name": "python3"
  },
  "language_info": {
   "codemirror_mode": {
    "name": "ipython",
    "version": 3
   },
   "file_extension": ".py",
   "mimetype": "text/x-python",
   "name": "python",
   "nbconvert_exporter": "python",
   "pygments_lexer": "ipython3",
   "version": "3.6.6"
  },
  "widgets": {
   "application/vnd.jupyter.widget-state+json": {
    "state": {
     "233d82a140e54294807e868262196366": {
      "model_module": "@jupyter-widgets/base",
      "model_module_version": "1.2.0",
      "model_name": "LayoutModel",
      "state": {
       "_model_module": "@jupyter-widgets/base",
       "_model_module_version": "1.2.0",
       "_model_name": "LayoutModel",
       "_view_count": null,
       "_view_module": "@jupyter-widgets/base",
       "_view_module_version": "1.2.0",
       "_view_name": "LayoutView",
       "align_content": null,
       "align_items": null,
       "align_self": null,
       "border": null,
       "bottom": null,
       "display": null,
       "flex": null,
       "flex_flow": null,
       "grid_area": null,
       "grid_auto_columns": null,
       "grid_auto_flow": null,
       "grid_auto_rows": null,
       "grid_column": null,
       "grid_gap": null,
       "grid_row": null,
       "grid_template_areas": null,
       "grid_template_columns": null,
       "grid_template_rows": null,
       "height": null,
       "justify_content": null,
       "justify_items": null,
       "left": null,
       "margin": null,
       "max_height": null,
       "max_width": null,
       "min_height": null,
       "min_width": null,
       "object_fit": null,
       "object_position": null,
       "order": null,
       "overflow": null,
       "overflow_x": null,
       "overflow_y": null,
       "padding": null,
       "right": null,
       "top": null,
       "visibility": null,
       "width": null
      }
     },
     "7a8bb7fc789e4ae786b0484cd8154822": {
      "model_module": "@jupyter-widgets/controls",
      "model_module_version": "1.5.0",
      "model_name": "HBoxModel",
      "state": {
       "_dom_classes": [],
       "_model_module": "@jupyter-widgets/controls",
       "_model_module_version": "1.5.0",
       "_model_name": "HBoxModel",
       "_view_count": null,
       "_view_module": "@jupyter-widgets/controls",
       "_view_module_version": "1.5.0",
       "_view_name": "HBoxView",
       "box_style": "",
       "children": [
        "IPY_MODEL_e334a48ee0d94ea3a978f006ff20e4c1",
        "IPY_MODEL_ac8d45dfd73c44ee9e5cd56c88b5ae03"
       ],
       "layout": "IPY_MODEL_fbe1b7c44b6b4074b1839affb9f609e7"
      }
     },
     "a50258bdb52c406799b6d8b319fe0386": {
      "model_module": "@jupyter-widgets/controls",
      "model_module_version": "1.5.0",
      "model_name": "DescriptionStyleModel",
      "state": {
       "_model_module": "@jupyter-widgets/controls",
       "_model_module_version": "1.5.0",
       "_model_name": "DescriptionStyleModel",
       "_view_count": null,
       "_view_module": "@jupyter-widgets/base",
       "_view_module_version": "1.2.0",
       "_view_name": "StyleView",
       "description_width": ""
      }
     },
     "ac8d45dfd73c44ee9e5cd56c88b5ae03": {
      "model_module": "@jupyter-widgets/controls",
      "model_module_version": "1.5.0",
      "model_name": "HTMLModel",
      "state": {
       "_dom_classes": [],
       "_model_module": "@jupyter-widgets/controls",
       "_model_module_version": "1.5.0",
       "_model_name": "HTMLModel",
       "_view_count": null,
       "_view_module": "@jupyter-widgets/controls",
       "_view_module_version": "1.5.0",
       "_view_name": "HTMLView",
       "description": "",
       "description_tooltip": null,
       "layout": "IPY_MODEL_f221791810564d82a18af0f2a2f6fd2f",
       "placeholder": "​",
       "style": "IPY_MODEL_a50258bdb52c406799b6d8b319fe0386",
       "value": "100% 220/220 [00:10&lt;00:00, 21.32it/s]"
      }
     },
     "b151510d696c49b3b3d5d0539aa96dd6": {
      "model_module": "@jupyter-widgets/controls",
      "model_module_version": "1.5.0",
      "model_name": "ProgressStyleModel",
      "state": {
       "_model_module": "@jupyter-widgets/controls",
       "_model_module_version": "1.5.0",
       "_model_name": "ProgressStyleModel",
       "_view_count": null,
       "_view_module": "@jupyter-widgets/base",
       "_view_module_version": "1.2.0",
       "_view_name": "StyleView",
       "bar_color": null,
       "description_width": ""
      }
     },
     "e334a48ee0d94ea3a978f006ff20e4c1": {
      "model_module": "@jupyter-widgets/controls",
      "model_module_version": "1.5.0",
      "model_name": "IntProgressModel",
      "state": {
       "_dom_classes": [],
       "_model_module": "@jupyter-widgets/controls",
       "_model_module_version": "1.5.0",
       "_model_name": "IntProgressModel",
       "_view_count": null,
       "_view_module": "@jupyter-widgets/controls",
       "_view_module_version": "1.5.0",
       "_view_name": "ProgressView",
       "bar_style": "success",
       "description": "",
       "description_tooltip": null,
       "layout": "IPY_MODEL_233d82a140e54294807e868262196366",
       "max": 220,
       "min": 0,
       "orientation": "horizontal",
       "style": "IPY_MODEL_b151510d696c49b3b3d5d0539aa96dd6",
       "value": 220
      }
     },
     "f221791810564d82a18af0f2a2f6fd2f": {
      "model_module": "@jupyter-widgets/base",
      "model_module_version": "1.2.0",
      "model_name": "LayoutModel",
      "state": {
       "_model_module": "@jupyter-widgets/base",
       "_model_module_version": "1.2.0",
       "_model_name": "LayoutModel",
       "_view_count": null,
       "_view_module": "@jupyter-widgets/base",
       "_view_module_version": "1.2.0",
       "_view_name": "LayoutView",
       "align_content": null,
       "align_items": null,
       "align_self": null,
       "border": null,
       "bottom": null,
       "display": null,
       "flex": null,
       "flex_flow": null,
       "grid_area": null,
       "grid_auto_columns": null,
       "grid_auto_flow": null,
       "grid_auto_rows": null,
       "grid_column": null,
       "grid_gap": null,
       "grid_row": null,
       "grid_template_areas": null,
       "grid_template_columns": null,
       "grid_template_rows": null,
       "height": null,
       "justify_content": null,
       "justify_items": null,
       "left": null,
       "margin": null,
       "max_height": null,
       "max_width": null,
       "min_height": null,
       "min_width": null,
       "object_fit": null,
       "object_position": null,
       "order": null,
       "overflow": null,
       "overflow_x": null,
       "overflow_y": null,
       "padding": null,
       "right": null,
       "top": null,
       "visibility": null,
       "width": null
      }
     },
     "fbe1b7c44b6b4074b1839affb9f609e7": {
      "model_module": "@jupyter-widgets/base",
      "model_module_version": "1.2.0",
      "model_name": "LayoutModel",
      "state": {
       "_model_module": "@jupyter-widgets/base",
       "_model_module_version": "1.2.0",
       "_model_name": "LayoutModel",
       "_view_count": null,
       "_view_module": "@jupyter-widgets/base",
       "_view_module_version": "1.2.0",
       "_view_name": "LayoutView",
       "align_content": null,
       "align_items": null,
       "align_self": null,
       "border": null,
       "bottom": null,
       "display": null,
       "flex": null,
       "flex_flow": null,
       "grid_area": null,
       "grid_auto_columns": null,
       "grid_auto_flow": null,
       "grid_auto_rows": null,
       "grid_column": null,
       "grid_gap": null,
       "grid_row": null,
       "grid_template_areas": null,
       "grid_template_columns": null,
       "grid_template_rows": null,
       "height": null,
       "justify_content": null,
       "justify_items": null,
       "left": null,
       "margin": null,
       "max_height": null,
       "max_width": null,
       "min_height": null,
       "min_width": null,
       "object_fit": null,
       "object_position": null,
       "order": null,
       "overflow": null,
       "overflow_x": null,
       "overflow_y": null,
       "padding": null,
       "right": null,
       "top": null,
       "visibility": null,
       "width": null
      }
     }
    },
    "version_major": 2,
    "version_minor": 0
   }
  }
 },
 "nbformat": 4,
 "nbformat_minor": 4
}
